{
 "cells": [
  {
   "cell_type": "code",
   "execution_count": null,
   "metadata": {},
   "outputs": [],
   "source": [
    "import numpy as np\n",
    "import pandas as pd\n",
    "import matplotlib.pyplot as plt\n",
    "import seaborn as sns\n",
    "from sklearn.model_selection import train_test_split\n",
    "from sklearn.preprocessing import StandardScaler, MinMaxScaler\n",
    "from sklearn.metrics import mean_squared_error\n",
    "\n",
    "# Фреймворки для глубокого обучения\n",
    "import tensorflow as tf\n",
    "from tensorflow import keras\n",
    "from tensorflow.keras import layers, models, callbacks\n",
    "\n",
    "# Для работы с 3D графикой и робототехникой\n",
    "import pytransform3d.rotations as ptr\n",
    "import pytransform3d.transformations as ptt\n",
    "import pytransform3d.visualizer as ptv\n",
    "\n",
    "# Дополнительные библиотеки для обработки данных\n",
    "import open3d as o3d  # Для работы с облаками точек (если используются лазерные данные)\n",
    "import cv2  # Для обработки изображений (если используются оптические данные)\n",
    "\n",
    "# Версии библиотек\n",
    "print(\"TensorFlow:\", tf.__version__)\n",
    "print(\"Keras:\", keras.__version__)"
   ]
  }
 ],
 "metadata": {
  "kernelspec": {
   "display_name": ".venv",
   "language": "python",
   "name": "python3"
  },
  "language_info": {
   "name": "python",
   "version": "3.12.3"
  }
 },
 "nbformat": 4,
 "nbformat_minor": 2
}
